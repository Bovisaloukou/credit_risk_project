{
 "cells": [
  {
   "cell_type": "markdown",
   "id": "fc8a5686",
   "metadata": {},
   "source": [
    "# Credit Risk Modeling (Mise à jour)\n",
    "Ce notebook explore les données de risque de crédit et entraîne un modèle de scoring conforme à la dernière version du projet."
   ]
  },
  {
   "cell_type": "code",
   "execution_count": null,
   "id": "a3ae63c7",
   "metadata": {},
   "outputs": [],
   "source": [
    "# Imports et configuration\n",
    "import pandas as pd\n",
    "import numpy as np\n",
    "import matplotlib.pyplot as plt\n",
    "import seaborn as sns\n",
    "from sklearn.model_selection import train_test_split\n",
    "import sys, os\n",
    "sys.path.append(os.path.abspath('../src'))"
   ]
  },
  {
   "cell_type": "code",
   "execution_count": null,
   "id": "5f6b0f8f",
   "metadata": {},
   "outputs": [],
   "source": [
    "from model_training import load_data, build_full_pipeline, train_model, evaluate_model, save_pipeline"
   ]
  },
  {
   "cell_type": "markdown",
   "id": "0ac8192d",
   "metadata": {},
   "source": [
    "## Chargement des données"
   ]
  },
  {
   "cell_type": "code",
   "execution_count": null,
   "id": "60cd5646",
   "metadata": {},
   "outputs": [],
   "source": [
    "data = load_data('data/generated_credit_data.csv')\n",
    "print('Shape:', data.shape)\n",
    "data.head()"
   ]
  },
  {
   "cell_type": "markdown",
   "id": "c4404ff5",
   "metadata": {},
   "source": [
    "## Analyse exploratoire rapide"
   ]
  },
  {
   "cell_type": "code",
   "execution_count": null,
   "id": "dd6b2608",
   "metadata": {},
   "outputs": [],
   "source": [
    "print(data.info())\n",
    "print(data.describe())\n",
    "sns.heatmap(data.isnull(), yticklabels=False, cbar=True, cmap='viridis')\n",
    "plt.title('Valeurs manquantes')\n",
    "plt.show()"
   ]
  },
  {
   "cell_type": "markdown",
   "id": "53da19b1",
   "metadata": {},
   "source": [
    "## Découpage train/test et pipeline"
   ]
  },
  {
   "cell_type": "code",
   "execution_count": null,
   "id": "a7658b17",
   "metadata": {},
   "outputs": [],
   "source": [
    "X = data.drop('default', axis=1)\n",
    "y = data['default']\n",
    "X_train, X_test, y_train, y_test = train_test_split(X, y, test_size=0.2, random_state=42, stratify=y)\n",
    "# Choix de l'imputation : 'median' ou 'knn'\n",
    "full_pipeline = build_full_pipeline(imputer_type='knn')"
   ]
  },
  {
   "cell_type": "markdown",
   "id": "28250f79",
   "metadata": {},
   "source": [
    "## Entraînement du modèle (RandomizedSearchCV inclus dans train_model)"
   ]
  },
  {
   "cell_type": "code",
   "execution_count": null,
   "id": "0f226744",
   "metadata": {},
   "outputs": [],
   "source": [
    "trained_pipeline = train_model(full_pipeline, X_train, y_train)"
   ]
  },
  {
   "cell_type": "markdown",
   "id": "8a8a213e",
   "metadata": {},
   "source": [
    "## Évaluation sur l'ensemble de test"
   ]
  },
  {
   "cell_type": "code",
   "execution_count": null,
   "id": "0f67bcf1",
   "metadata": {},
   "outputs": [],
   "source": [
    "metrics = evaluate_model(trained_pipeline, X_test, y_test)"
   ]
  },
  {
   "cell_type": "markdown",
   "id": "fd5f15cf",
   "metadata": {},
   "source": [
    "## Sauvegarde du pipeline"
   ]
  },
  {
   "cell_type": "code",
   "execution_count": null,
   "id": "5141066a",
   "metadata": {},
   "outputs": [],
   "source": [
    "# Save the pipeline\n",
    "save_pipeline(pipeline, 'models/credit_risk_pipeline.pkl')\n",
    "print(\"Pipeline saved successfully!\")"
   ]
  }
 ],
 "metadata": {
  "language_info": {
   "name": "python"
  }
 },
 "nbformat": 4,
 "nbformat_minor": 5
}
