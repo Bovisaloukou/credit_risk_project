{
 "cells": [
  {
   "cell_type": "markdown",
   "id": "7d7d11fa",
   "metadata": {},
   "source": [
    "# Exploration et Entraînement du Modèle de Risque de Crédit\n",
    "\n",
    "## Objectif\n",
    "Ce notebook a pour but d'analyser les données, expérimenter le pipeline de Machine Learning, entraîner le modèle final et visualiser les résultats.\n",
    "\n",
    "Nous allons suivre les étapes suivantes :\n",
    "1. Configuration et imports\n",
    "2. Chargement des données\n",
    "3. Analyse exploratoire (EDA)\n",
    "4. Prétraitement et ingénierie des caractéristiques\n",
    "5. Entraînement du modèle\n",
    "6. Évaluation du modèle\n",
    "7. Sauvegarde du pipeline\n",
    "8. Conclusion"
   ]
  },
  {
   "cell_type": "markdown",
   "id": "7028a38b",
   "metadata": {},
   "source": [
    "## 1. Configuration et Imports\n",
    "\n",
    "Importons les bibliothèques nécessaires et configurons l'environnement de travail."
   ]
  },
  {
   "cell_type": "code",
   "execution_count": null,
   "id": "85486974",
   "metadata": {},
   "outputs": [],
   "source": [
    "import pandas as pd\n",
    "import numpy as np\n",
    "import matplotlib.pyplot as plt\n",
    "import seaborn as sns\n",
    "from sklearn.model_selection import train_test_split\n",
    "from sklearn.metrics import roc_curve, auc, confusion_matrix, ConfusionMatrixDisplay\n",
    "\n",
    "# Import des modules locaux\n",
    "from src.model_training import load_data, build_full_pipeline, train_model, evaluate_model, save_pipeline\n",
    "from src.preprocessing import NUMERICAL_COLS\n",
    "\n",
    "# Configuration de l'affichage\n",
    "pd.set_option('display.max_columns', None)\n",
    "pd.set_option('display.max_rows', 100)\n",
    "plt.style.use('seaborn')\n",
    "%matplotlib inline\n",
    "\n",
    "# Chemins des fichiers\n",
    "DATA_FILEPATH = 'data/generated_credit_data.csv'\n",
    "MODEL_DIR = 'models'\n",
    "PIPELINE_FILEPATH = f'{MODEL_DIR}/full_pipeline.joblib'"
   ]
  },
  {
   "cell_type": "markdown",
   "id": "818be324",
   "metadata": {},
   "source": [
    "## 2. Chargement des Données\n",
    "\n",
    "Chargeons les données générées et vérifions leur structure."
   ]
  },
  {
   "cell_type": "code",
   "execution_count": null,
   "id": "6e6305a2",
   "metadata": {},
   "outputs": [],
   "source": [
    "# Charger les données\n",
    "data = load_data(DATA_FILEPATH)\n",
    "\n",
    "if data is not None:\n",
    "    print(\"\\nAperçu des données :\")\n",
    "    display(data.head())\n",
    "    \n",
    "    print(\"\\nInformations sur le dataset :\")\n",
    "    display(data.info())"
   ]
  },
  {
   "cell_type": "markdown",
   "id": "a488b83b",
   "metadata": {},
   "source": [
    "## 3. Analyse Exploratoire des Données (EDA)\n",
    "\n",
    "### 3.1 Statistiques descriptives"
   ]
  },
  {
   "cell_type": "code",
   "execution_count": null,
   "id": "b2031ee6",
   "metadata": {},
   "outputs": [],
   "source": [
    "# Statistiques descriptives\n",
    "print(\"Statistiques descriptives :\")\n",
    "display(data.describe())\n",
    "\n",
    "# Distribution de la variable cible\n",
    "plt.figure(figsize=(8, 5))\n",
    "sns.countplot(data=data, x='default')\n",
    "plt.title('Distribution de la Variable Cible (default)')\n",
    "plt.show()\n",
    "\n",
    "# Pourcentage de chaque classe\n",
    "default_dist = data['default'].value_counts(normalize=True) * 100\n",
    "print(\"\\nDistribution des classes (%):\\n\", default_dist)"
   ]
  },
  {
   "cell_type": "markdown",
   "id": "5cbbd0f0",
   "metadata": {},
   "source": [
    "### 3.2 Analyse des valeurs manquantes"
   ]
  },
  {
   "cell_type": "code",
   "execution_count": null,
   "id": "995dfbd6",
   "metadata": {},
   "outputs": [],
   "source": [
    "# Analyse des valeurs manquantes\n",
    "missing_values = data.isnull().sum()\n",
    "missing_percentages = (missing_values / len(data)) * 100\n",
    "\n",
    "missing_df = pd.DataFrame({\n",
    "    'Valeurs manquantes': missing_values,\n",
    "    'Pourcentage (%)': missing_percentages\n",
    "})\n",
    "\n",
    "print(\"Analyse des valeurs manquantes :\")\n",
    "display(missing_df)\n",
    "\n",
    "# Visualisation des valeurs manquantes\n",
    "plt.figure(figsize=(10, 6))\n",
    "sns.heatmap(data.isnull(), yticklabels=False, cmap='viridis')\n",
    "plt.title('Heatmap des Valeurs Manquantes')\n",
    "plt.show()"
   ]
  },
  {
   "cell_type": "markdown",
   "id": "6f8ac628",
   "metadata": {},
   "source": [
    "### 3.3 Distribution des variables numériques"
   ]
  },
  {
   "cell_type": "code",
   "execution_count": null,
   "id": "3932a40c",
   "metadata": {},
   "outputs": [],
   "source": [
    "# Distribution des variables numériques\n",
    "fig, axes = plt.subplots(3, 2, figsize=(15, 18))\n",
    "axes = axes.ravel()\n",
    "\n",
    "for idx, col in enumerate(NUMERICAL_COLS):\n",
    "    sns.histplot(data=data, x=col, ax=axes[idx])\n",
    "    axes[idx].set_title(f'Distribution de {col}')\n",
    "\n",
    "plt.tight_layout()\n",
    "plt.show()\n",
    "\n",
    "# Boxplots pour détecter les outliers\n",
    "fig, axes = plt.subplots(3, 2, figsize=(15, 18))\n",
    "axes = axes.ravel()\n",
    "\n",
    "for idx, col in enumerate(NUMERICAL_COLS):\n",
    "    sns.boxplot(data=data, y=col, ax=axes[idx])\n",
    "    axes[idx].set_title(f'Boxplot de {col}')\n",
    "\n",
    "plt.tight_layout()\n",
    "plt.show()"
   ]
  },
  {
   "cell_type": "markdown",
   "id": "ced1b821",
   "metadata": {},
   "source": [
    "### 3.4 Analyse des corrélations"
   ]
  },
  {
   "cell_type": "code",
   "execution_count": null,
   "id": "c4ce746f",
   "metadata": {},
   "outputs": [],
   "source": [
    "# Matrice de corrélation\n",
    "plt.figure(figsize=(10, 8))\n",
    "correlation_matrix = data.corr()\n",
    "sns.heatmap(correlation_matrix, annot=True, cmap='coolwarm', center=0)\n",
    "plt.title('Matrice de Corrélation')\n",
    "plt.show()\n",
    "\n",
    "# Relations entre caractéristiques et variable cible\n",
    "fig, axes = plt.subplots(3, 2, figsize=(15, 18))\n",
    "axes = axes.ravel()\n",
    "\n",
    "for idx, col in enumerate(NUMERICAL_COLS):\n",
    "    sns.boxplot(data=data, x='default', y=col, ax=axes[idx])\n",
    "    axes[idx].set_title(f'{col} vs Default')\n",
    "\n",
    "plt.tight_layout()\n",
    "plt.show()"
   ]
  },
  {
   "cell_type": "markdown",
   "id": "96976464",
   "metadata": {},
   "source": [
    "## 4. Prétraitement et Ingénierie des Caractéristiques\n",
    "\n",
    "Préparation des données pour l'entraînement du modèle."
   ]
  },
  {
   "cell_type": "code",
   "execution_count": null,
   "id": "22f049f2",
   "metadata": {},
   "outputs": [],
   "source": [
    "# Séparation des données\n",
    "X = data.drop('default', axis=1)\n",
    "y = data['default']\n",
    "\n",
    "X_train, X_test, y_train, y_test = train_test_split(\n",
    "    X, y, test_size=0.25, random_state=42, stratify=y\n",
    ")\n",
    "\n",
    "print(f\"Taille de l'ensemble d'entraînement: {X_train.shape}\")\n",
    "print(f\"Taille de l'ensemble de test: {X_test.shape}\")\n",
    "\n",
    "# Construction du pipeline\n",
    "full_pipeline = build_full_pipeline()\n",
    "print(\"\\nPipeline construit:\")\n",
    "print(full_pipeline)"
   ]
  },
  {
   "cell_type": "markdown",
   "id": "c14982cb",
   "metadata": {},
   "source": [
    "## 5. Entraînement du Modèle\n",
    "\n",
    "Entraînement du pipeline complet avec GridSearchCV."
   ]
  },
  {
   "cell_type": "code",
   "execution_count": null,
   "id": "75dbd240",
   "metadata": {},
   "outputs": [],
   "source": [
    "# Entraînement du modèle\n",
    "trained_pipeline = train_model(full_pipeline, X_train, y_train)\n",
    "\n",
    "if trained_pipeline is not None:\n",
    "    print(\"\\nMeilleurs paramètres trouvés :\")\n",
    "    print(trained_pipeline.get_params())"
   ]
  },
  {
   "cell_type": "markdown",
   "id": "aafb283d",
   "metadata": {},
   "source": [
    "## 6. Évaluation du Modèle\n",
    "\n",
    "Évaluation des performances sur l'ensemble de test."
   ]
  },
  {
   "cell_type": "code",
   "execution_count": null,
   "id": "e7e93a72",
   "metadata": {},
   "outputs": [],
   "source": [
    "if trained_pipeline is not None:\n",
    "    # Évaluation sur l'ensemble de test\n",
    "    evaluation_results = evaluate_model(trained_pipeline, X_test, y_test)\n",
    "    \n",
    "    if evaluation_results is not None:\n",
    "        print(\"\\nRésultats de l'évaluation sur l'ensemble de test :\")\n",
    "        for metric, value in evaluation_results.items():\n",
    "            if metric != 'confusion_matrix':\n",
    "                print(f\"{metric}: {value:.4f}\")\n",
    "        \n",
    "        # Visualisation de la matrice de confusion\n",
    "        plt.figure(figsize=(8, 6))\n",
    "        cm = np.array(evaluation_results['confusion_matrix'])\n",
    "        disp = ConfusionMatrixDisplay(confusion_matrix=cm)\n",
    "        disp.plot()\n",
    "        plt.title('Matrice de Confusion')\n",
    "        plt.show()\n",
    "        \n",
    "        # Courbe ROC\n",
    "        y_pred_proba = trained_pipeline.predict_proba(X_test)[:, 1]\n",
    "        fpr, tpr, _ = roc_curve(y_test, y_pred_proba)\n",
    "        roc_auc = auc(fpr, tpr)\n",
    "\n",
    "        plt.figure(figsize=(8, 6))\n",
    "        plt.plot(fpr, tpr, color='darkorange', lw=2, label=f'ROC curve (AUC = {roc_auc:.2f})')\n",
    "        plt.plot([0, 1], [0, 1], color='navy', lw=2, linestyle='--')\n",
    "        plt.xlim([0.0, 1.0])\n",
    "        plt.ylim([0.0, 1.05])\n",
    "        plt.xlabel('Taux de Faux Positifs')\n",
    "        plt.ylabel('Taux de Vrais Positifs')\n",
    "        plt.title('Courbe ROC')\n",
    "        plt.legend(loc=\"lower right\")\n",
    "        plt.show()"
   ]
  },
  {
   "cell_type": "markdown",
   "id": "f96e8562",
   "metadata": {},
   "source": [
    "## 7. Sauvegarde du Pipeline\n",
    "\n",
    "Sauvegarde du pipeline entraîné pour une utilisation future."
   ]
  },
  {
   "cell_type": "code",
   "execution_count": null,
   "id": "1cd44f84",
   "metadata": {},
   "outputs": [],
   "source": [
    "if trained_pipeline is not None:\n",
    "    save_pipeline(trained_pipeline)"
   ]
  },
  {
   "cell_type": "markdown",
   "id": "cf693e5d",
   "metadata": {},
   "source": [
    "## 8. Conclusion et Perspectives\n",
    "\n",
    "### Résumé des Résultats\n",
    "- Le modèle a été entraîné avec succès sur les données synthétiques.\n",
    "- Les performances principales sont mesurées par l'AUC-ROC, la précision et le rappel.\n",
    "- Le pipeline complet gère automatiquement le prétraitement et l'ingénierie des caractéristiques.\n",
    "\n",
    "### Limitations\n",
    "1. Données synthétiques : Le modèle est entraîné sur des données générées, qui peuvent ne pas refléter la complexité du monde réel.\n",
    "2. Déséquilibre de classe : La gestion du déséquilibre est simplifiée.\n",
    "3. Validation : Une validation croisée plus robuste pourrait être nécessaire.\n",
    "\n",
    "### Améliorations Futures\n",
    "1. Tester d'autres algorithmes (ex: LightGBM, XGBoost)\n",
    "2. Implémenter des techniques de gestion du déséquilibre (SMOTE, class_weight)\n",
    "3. Ajouter plus de caractéristiques et interactions\n",
    "4. Optimiser l'hyperparamétrage avec une grille plus large\n",
    "5. Mettre en place une validation plus robuste"
   ]
  }
 ],
 "metadata": {
  "language_info": {
   "name": "python"
  }
 },
 "nbformat": 4,
 "nbformat_minor": 5
}
